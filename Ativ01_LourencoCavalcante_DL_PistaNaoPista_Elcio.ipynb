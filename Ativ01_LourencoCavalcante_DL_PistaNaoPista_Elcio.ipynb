{
  "nbformat": 4,
  "nbformat_minor": 0,
  "metadata": {
    "colab": {
      "provenance": [],
      "authorship_tag": "ABX9TyMrDjxdNs+qNMyXGa4EY4k+",
      "include_colab_link": true
    },
    "kernelspec": {
      "name": "python3",
      "display_name": "Python 3"
    },
    "language_info": {
      "name": "python"
    }
  },
  "cells": [
    {
      "cell_type": "markdown",
      "metadata": {
        "id": "view-in-github",
        "colab_type": "text"
      },
      "source": [
        "<a href=\"https://colab.research.google.com/github/lourencocavalcante/CAP-421-3-Deep-Learning/blob/main/Ativ01_LourencoCavalcante_DL_PistaNaoPista_Elcio.ipynb\" target=\"_parent\"><img src=\"https://colab.research.google.com/assets/colab-badge.svg\" alt=\"Open In Colab\"/></a>"
      ]
    },
    {
      "cell_type": "markdown",
      "source": [
        "[<img src=\"https://github.com/lourencocavalcante/LogosINPE/blob/main/logoinpe.png?raw=true\" width = 500 align=\"left\">](https://www.gov.br/inpe/pt-br)\n",
        "\n",
        "[<img src=\"https://github.com/lourencocavalcante/LogosINPE/blob/main/LogoCAP.png?raw=true\" width = 300 align=\"right\">](http://www.inpe.br/posgraduacao/cap/)"
      ],
      "metadata": {
        "id": "Yu1BI5tLedxy"
      }
    },
    {
      "cell_type": "markdown",
      "source": [
        "# **CAP-730 Aprendizado Profundo (*Deep Leraning*)**\n",
        "## **Otimizando redes neurais profundas na detecção de pistas de pouso no bioma amazônico usando dados tabulares**\n",
        "\n",
        "**Docentes:** *Dr. Valdivino Alexandre de Santiago Junior, Dr. Elcio Hideiti Shiguemori e Dr. Thales Sehn Körti*\n",
        "\n",
        "**Discente:** *Lourenço José Cavalcante Neto*\n",
        "\n",
        "---\n",
        "\n"
      ],
      "metadata": {
        "id": "6Y14H4Vze0wz"
      }
    },
    {
      "cell_type": "markdown",
      "source": [
        "## Objetivo:\n",
        "\n",
        "Nesta atividade, vamos explorar o problema de detecção de pistas de pouso no bioma amazônico utilizando redes neurais profundas totalmente conectadas. Para isso, empregaremos atributos previamente extraídos por redes neurais convolucionais (CNN) já treinadas. Em aulas futuras, será abordado treinamento e uso das CNNs em maior detalhe, especialmente com uso de imagens. O principal objetivo desta atividade foi familiarizar-se com os conceitos básicos de redes neurais profundas, enquanto realizamos uma tarefa prática de classificação de dados tabulares, aplicando técnicas de aprendizado profundo."
      ],
      "metadata": {
        "id": "fhiFQr5UfAiC"
      }
    },
    {
      "cell_type": "markdown",
      "source": [
        "## Importação/Instalação de Dependências"
      ],
      "metadata": {
        "id": "PeS9ARLMeN2k"
      }
    },
    {
      "cell_type": "code",
      "source": [
        "import pandas as pd\n",
        "import torch\n",
        "import torch.nn as nn\n",
        "import torch.optim as optim\n",
        "from torch.utils.data import Dataset, DataLoader\n",
        "from sklearn.model_selection import train_test_split\n",
        "from sklearn.preprocessing import LabelEncoder, StandardScaler\n",
        "from sklearn.metrics import ConfusionMatrixDisplay, confusion_matrix, accuracy_score, recall_score, f1_score\n",
        "import matplotlib.pyplot as plt\n",
        "\n",
        "# Baixar arquivo de dados\n",
        "\n",
        "!gdown --id 1gf-Z0CEfGaTNzr9SUnxB-2iSpmHC-V7y\n",
        "!gdown --id 1TpuHNRnL0CuyRheXq9I-ou9pfke15mmG\n",
        "!gdown --id 1GCVzp4soAf24ABv-qN9uTa7ROsvrhG9X\n"
      ],
      "metadata": {
        "colab": {
          "base_uri": "https://localhost:8080/"
        },
        "id": "DutjR6ONf-DU",
        "outputId": "0168a2f2-436a-4737-e562-6c3498ea5463"
      },
      "execution_count": 1,
      "outputs": [
        {
          "output_type": "stream",
          "name": "stdout",
          "text": [
            "/usr/local/lib/python3.10/dist-packages/gdown/__main__.py:140: FutureWarning: Option `--id` was deprecated in version 4.3.1 and will be removed in 5.0. You don't need to pass it anymore to use a file ID.\n",
            "  warnings.warn(\n",
            "Downloading...\n",
            "From: https://drive.google.com/uc?id=1gf-Z0CEfGaTNzr9SUnxB-2iSpmHC-V7y\n",
            "To: /content/teste_painters.csv\n",
            "100% 47.5M/47.5M [00:00<00:00, 74.8MB/s]\n",
            "/usr/local/lib/python3.10/dist-packages/gdown/__main__.py:140: FutureWarning: Option `--id` was deprecated in version 4.3.1 and will be removed in 5.0. You don't need to pass it anymore to use a file ID.\n",
            "  warnings.warn(\n",
            "Downloading...\n",
            "From (original): https://drive.google.com/uc?id=1TpuHNRnL0CuyRheXq9I-ou9pfke15mmG\n",
            "From (redirected): https://drive.google.com/uc?id=1TpuHNRnL0CuyRheXq9I-ou9pfke15mmG&confirm=t&uuid=8d987c48-ebba-48fe-ba8e-0f352d2a10fc\n",
            "To: /content/todas_painters.csv\n",
            "100% 848M/848M [00:07<00:00, 111MB/s]\n",
            "/usr/local/lib/python3.10/dist-packages/gdown/__main__.py:140: FutureWarning: Option `--id` was deprecated in version 4.3.1 and will be removed in 5.0. You don't need to pass it anymore to use a file ID.\n",
            "  warnings.warn(\n",
            "Downloading...\n",
            "From (original): https://drive.google.com/uc?id=1GCVzp4soAf24ABv-qN9uTa7ROsvrhG9X\n",
            "From (redirected): https://drive.google.com/uc?id=1GCVzp4soAf24ABv-qN9uTa7ROsvrhG9X&confirm=t&uuid=32b9236f-e408-4a5a-9d1e-d9851e224afa\n",
            "To: /content/treinamento_painters.csv\n",
            "100% 378M/378M [00:03<00:00, 108MB/s]\n"
          ]
        }
      ]
    },
    {
      "cell_type": "markdown",
      "source": [
        "## Carregamento e pré-processamento dos dados"
      ],
      "metadata": {
        "id": "k9QVM695gFy8"
      }
    },
    {
      "cell_type": "code",
      "source": [
        "# Carregar os dados e remover as duas primeiras linhas de metadados\n",
        "file_path = '/content/treinamento_painters.csv'\n",
        "data = pd.read_csv(file_path, skiprows=[0, 1])\n",
        "\n",
        "# Separar características (X) e rótulos (y)\n",
        "X = data.iloc[:, 1:].values.astype(float)  # Dados de entrada\n",
        "y = data.iloc[:, 0].values  # Rótulos (categorias)\n",
        "\n",
        "# Codificar os rótulos para inteiros\n",
        "label_encoder = LabelEncoder()\n",
        "y_encoded = label_encoder.fit_transform(y)\n",
        "\n",
        "# Normalizar as características\n",
        "scaler = StandardScaler()\n",
        "X_scaled = scaler.fit_transform(X)\n",
        "\n",
        "# Dividir em conjuntos de treino, validação e teste\n",
        "X_train_val, X_test, y_train_val, y_test = train_test_split(X_scaled, y_encoded, test_size=0.2, random_state=42)\n",
        "\n",
        "# Dividir o conjunto de treino/validação em treino e validação\n",
        "X_train, X_val, y_train, y_val = train_test_split(X_train_val, y_train_val, test_size=0.25, random_state=42)  # 0.25 x 0.8 = 0.2 do total\n",
        "\n"
      ],
      "metadata": {
        "id": "jQY_7B0vgKe0"
      },
      "execution_count": 2,
      "outputs": []
    },
    {
      "cell_type": "markdown",
      "source": [
        "## Criação da classe dataset personalizada"
      ],
      "metadata": {
        "id": "57ypqh4mgWtU"
      }
    },
    {
      "cell_type": "code",
      "source": [
        "# Criar uma classe Dataset para PyTorch\n",
        "class CustomDataset(Dataset):\n",
        "    def __init__(self, features, labels):\n",
        "        self.features = torch.tensor(features, dtype=torch.float32)\n",
        "        self.labels = torch.tensor(labels, dtype=torch.long)\n",
        "\n",
        "    def __len__(self):\n",
        "        return len(self.labels)\n",
        "\n",
        "    def __getitem__(self, idx):\n",
        "        return self.features[idx], self.labels[idx]\n",
        "\n",
        "# Criar datasets de treino e teste\n",
        "train_dataset = CustomDataset(X_train, y_train)\n",
        "test_dataset = CustomDataset(X_test, y_test)\n",
        "\n",
        "# Criar DataLoaders\n",
        "batch_size = 32\n",
        "train_loader = DataLoader(train_dataset, batch_size=batch_size, shuffle=True)\n",
        "test_loader = DataLoader(test_dataset, batch_size=batch_size, shuffle=False)\n"
      ],
      "metadata": {
        "id": "htnFuCf3ggNy"
      },
      "execution_count": 3,
      "outputs": []
    },
    {
      "cell_type": "markdown",
      "source": [
        "## Antes, vamos realizar uma otimização de Hiperparâmetros com Optuna"
      ],
      "metadata": {
        "id": "KINCI7ScjtbZ"
      }
    },
    {
      "cell_type": "code",
      "source": [
        "!pip install Optuna"
      ],
      "metadata": {
        "colab": {
          "base_uri": "https://localhost:8080/"
        },
        "id": "T5JuIDgRj89r",
        "outputId": "30856145-5c96-49f9-ae53-771c515aa461"
      },
      "execution_count": 4,
      "outputs": [
        {
          "output_type": "stream",
          "name": "stdout",
          "text": [
            "Collecting Optuna\n",
            "  Downloading optuna-4.0.0-py3-none-any.whl.metadata (16 kB)\n",
            "Collecting alembic>=1.5.0 (from Optuna)\n",
            "  Downloading alembic-1.13.3-py3-none-any.whl.metadata (7.4 kB)\n",
            "Collecting colorlog (from Optuna)\n",
            "  Downloading colorlog-6.8.2-py3-none-any.whl.metadata (10 kB)\n",
            "Requirement already satisfied: numpy in /usr/local/lib/python3.10/dist-packages (from Optuna) (1.26.4)\n",
            "Requirement already satisfied: packaging>=20.0 in /usr/local/lib/python3.10/dist-packages (from Optuna) (24.1)\n",
            "Requirement already satisfied: sqlalchemy>=1.3.0 in /usr/local/lib/python3.10/dist-packages (from Optuna) (2.0.36)\n",
            "Requirement already satisfied: tqdm in /usr/local/lib/python3.10/dist-packages (from Optuna) (4.66.5)\n",
            "Requirement already satisfied: PyYAML in /usr/local/lib/python3.10/dist-packages (from Optuna) (6.0.2)\n",
            "Collecting Mako (from alembic>=1.5.0->Optuna)\n",
            "  Downloading Mako-1.3.6-py3-none-any.whl.metadata (2.9 kB)\n",
            "Requirement already satisfied: typing-extensions>=4 in /usr/local/lib/python3.10/dist-packages (from alembic>=1.5.0->Optuna) (4.12.2)\n",
            "Requirement already satisfied: greenlet!=0.4.17 in /usr/local/lib/python3.10/dist-packages (from sqlalchemy>=1.3.0->Optuna) (3.1.1)\n",
            "Requirement already satisfied: MarkupSafe>=0.9.2 in /usr/local/lib/python3.10/dist-packages (from Mako->alembic>=1.5.0->Optuna) (3.0.2)\n",
            "Downloading optuna-4.0.0-py3-none-any.whl (362 kB)\n",
            "\u001b[2K   \u001b[90m━━━━━━━━━━━━━━━━━━━━━━━━━━━━━━━━━━━━━━━━\u001b[0m \u001b[32m362.8/362.8 kB\u001b[0m \u001b[31m11.7 MB/s\u001b[0m eta \u001b[36m0:00:00\u001b[0m\n",
            "\u001b[?25hDownloading alembic-1.13.3-py3-none-any.whl (233 kB)\n",
            "\u001b[2K   \u001b[90m━━━━━━━━━━━━━━━━━━━━━━━━━━━━━━━━━━━━━━━━\u001b[0m \u001b[32m233.2/233.2 kB\u001b[0m \u001b[31m13.2 MB/s\u001b[0m eta \u001b[36m0:00:00\u001b[0m\n",
            "\u001b[?25hDownloading colorlog-6.8.2-py3-none-any.whl (11 kB)\n",
            "Downloading Mako-1.3.6-py3-none-any.whl (78 kB)\n",
            "\u001b[2K   \u001b[90m━━━━━━━━━━━━━━━━━━━━━━━━━━━━━━━━━━━━━━━━\u001b[0m \u001b[32m78.6/78.6 kB\u001b[0m \u001b[31m5.8 MB/s\u001b[0m eta \u001b[36m0:00:00\u001b[0m\n",
            "\u001b[?25hInstalling collected packages: Mako, colorlog, alembic, Optuna\n",
            "Successfully installed Mako-1.3.6 Optuna-4.0.0 alembic-1.13.3 colorlog-6.8.2\n"
          ]
        }
      ]
    },
    {
      "cell_type": "markdown",
      "source": [
        "## Definições da Rede Neural"
      ],
      "metadata": {
        "id": "heGWMHYEgmEF"
      }
    },
    {
      "cell_type": "code",
      "source": [
        "import optuna\n",
        "import torch.optim as optim\n",
        "from torch.utils.data import DataLoader\n",
        "\n",
        "# Definir a função de objetivo para o Optuna\n",
        "def objective(trial):\n",
        "    # Sugerir hiperparâmetros\n",
        "    hidden_size = trial.suggest_int('hidden_size', 32, 256)  # Tamanho da camada oculta\n",
        "    learning_rate = trial.suggest_loguniform('learning_rate', 1e-5, 1e-2)  # Taxa de aprendizado\n",
        "    optimizer_name = trial.suggest_categorical('optimizer', ['Adam', 'RMSprop', 'SGD'])  # Escolher otimizador\n",
        "    batch_size = trial.suggest_int('batch_size', 16, 128)  # Tamanho do lote\n",
        "\n",
        "    # Definir a rede neural com os parâmetros sugeridos\n",
        "    model = FullyConnectedNN(input_size, hidden_size, num_classes)\n",
        "\n",
        "    # Definir a função de perda\n",
        "    criterion = nn.CrossEntropyLoss()\n",
        "\n",
        "    # Selecionar otimizador sugerido\n",
        "    optimizer = getattr(optim, optimizer_name)(model.parameters(), lr=learning_rate)\n",
        "\n",
        "    # Preparar DataLoader com o tamanho de batch sugerido\n",
        "    train_loader = DataLoader(train_dataset, batch_size=batch_size, shuffle=True)\n",
        "\n",
        "    # Treinar o modelo por algumas épocas\n",
        "    num_epochs = 5  # Ajustar o número de épocas para otimização rápida\n",
        "    model.train()\n",
        "    for epoch in range(num_epochs):\n",
        "        running_loss = 0.0\n",
        "        for inputs, labels in train_loader:\n",
        "            optimizer.zero_grad()\n",
        "            outputs = model(inputs)\n",
        "            loss = criterion(outputs, labels)\n",
        "            loss.backward()\n",
        "            optimizer.step()\n",
        "            running_loss += loss.item()\n",
        "\n",
        "    # Avaliar a acurácia no conjunto de teste\n",
        "    model.eval()\n",
        "    correct = 0\n",
        "    total = 0\n",
        "    with torch.no_grad():\n",
        "        for inputs, labels in test_loader:\n",
        "            outputs = model(inputs)\n",
        "            _, predicted = torch.max(outputs, 1)\n",
        "            total += labels.size(0)\n",
        "            correct += (predicted == labels).sum().item()\n",
        "\n",
        "    # Retornar a métrica a ser minimizada/maximizada (neste caso, o erro)\n",
        "    accuracy = correct / total\n",
        "    return accuracy  # Otimizar a acurácia\n",
        "\n",
        "# Criar o estudo Optuna\n",
        "study = optuna.create_study(direction='maximize')  # Maximizar a acurácia\n",
        "study.optimize(objective, n_trials=20)  # Realizar 50 tentativas de ajuste\n",
        "\n",
        "# Melhor hiperparâmetro encontrado\n",
        "print(\"Melhores hiperparâmetros: \", study.best_params)\n",
        "print(\"Melhor acurácia: \", study.best_value)\n"
      ],
      "metadata": {
        "colab": {
          "base_uri": "https://localhost:8080/"
        },
        "id": "eRLyDJcDj3wC",
        "outputId": "fc976b5b-818a-4872-b09b-9a23027d351b"
      },
      "execution_count": 8,
      "outputs": [
        {
          "output_type": "stream",
          "name": "stderr",
          "text": [
            "[I 2024-10-23 00:46:46,981] A new study created in memory with name: no-name-a895275e-94ee-4504-bc56-ba683b3db373\n",
            "<ipython-input-8-34a3cf05cd14>:9: FutureWarning: suggest_loguniform has been deprecated in v3.0.0. This feature will be removed in v6.0.0. See https://github.com/optuna/optuna/releases/tag/v3.0.0. Use suggest_float(..., log=True) instead.\n",
            "  learning_rate = trial.suggest_loguniform('learning_rate', 1e-5, 1e-2)  # Taxa de aprendizado\n",
            "[I 2024-10-23 00:46:53,119] Trial 0 finished with value: 0.8573248407643312 and parameters: {'hidden_size': 84, 'learning_rate': 0.0015445365412293545, 'optimizer': 'RMSprop', 'batch_size': 60}. Best is trial 0 with value: 0.8573248407643312.\n",
            "[I 2024-10-23 00:46:55,567] Trial 1 finished with value: 0.7923566878980892 and parameters: {'hidden_size': 100, 'learning_rate': 0.00045805530825238544, 'optimizer': 'RMSprop', 'batch_size': 113}. Best is trial 0 with value: 0.8573248407643312.\n",
            "[I 2024-10-23 00:46:57,736] Trial 2 finished with value: 0.8507006369426752 and parameters: {'hidden_size': 112, 'learning_rate': 0.0010585672829623973, 'optimizer': 'SGD', 'batch_size': 114}. Best is trial 0 with value: 0.8573248407643312.\n",
            "[I 2024-10-23 00:47:02,253] Trial 3 finished with value: 0.8135031847133758 and parameters: {'hidden_size': 114, 'learning_rate': 1.967274682564291e-05, 'optimizer': 'SGD', 'batch_size': 31}. Best is trial 0 with value: 0.8573248407643312.\n",
            "[I 2024-10-23 00:47:07,937] Trial 4 finished with value: 0.8636942675159236 and parameters: {'hidden_size': 119, 'learning_rate': 0.001738160885212269, 'optimizer': 'SGD', 'batch_size': 35}. Best is trial 4 with value: 0.8636942675159236.\n",
            "[I 2024-10-23 00:47:11,019] Trial 5 finished with value: 0.8405095541401274 and parameters: {'hidden_size': 143, 'learning_rate': 6.773899932274894e-05, 'optimizer': 'SGD', 'batch_size': 64}. Best is trial 4 with value: 0.8636942675159236.\n",
            "[I 2024-10-23 00:47:15,888] Trial 6 finished with value: 0.8670063694267516 and parameters: {'hidden_size': 187, 'learning_rate': 9.05311840903064e-05, 'optimizer': 'RMSprop', 'batch_size': 51}. Best is trial 6 with value: 0.8670063694267516.\n",
            "[I 2024-10-23 00:47:18,172] Trial 7 finished with value: 0.8552866242038216 and parameters: {'hidden_size': 66, 'learning_rate': 0.0007150172810254195, 'optimizer': 'SGD', 'batch_size': 65}. Best is trial 6 with value: 0.8670063694267516.\n",
            "[I 2024-10-23 00:47:24,267] Trial 8 finished with value: 0.8659872611464968 and parameters: {'hidden_size': 114, 'learning_rate': 2.5477959125624578e-05, 'optimizer': 'Adam', 'batch_size': 64}. Best is trial 6 with value: 0.8670063694267516.\n",
            "[I 2024-10-23 00:47:28,928] Trial 9 finished with value: 0.8593630573248408 and parameters: {'hidden_size': 151, 'learning_rate': 0.0007630067005094884, 'optimizer': 'SGD', 'batch_size': 34}. Best is trial 6 with value: 0.8670063694267516.\n",
            "[I 2024-10-23 00:47:36,650] Trial 10 finished with value: 0.836687898089172 and parameters: {'hidden_size': 232, 'learning_rate': 0.009848648943025973, 'optimizer': 'RMSprop', 'batch_size': 95}. Best is trial 6 with value: 0.8670063694267516.\n",
            "[I 2024-10-23 00:47:44,849] Trial 11 finished with value: 0.8647133757961784 and parameters: {'hidden_size': 197, 'learning_rate': 7.630224592066499e-05, 'optimizer': 'Adam', 'batch_size': 88}. Best is trial 6 with value: 0.8670063694267516.\n",
            "[I 2024-10-23 00:47:51,409] Trial 12 finished with value: 0.8670063694267516 and parameters: {'hidden_size': 181, 'learning_rate': 1.1054885115095283e-05, 'optimizer': 'Adam', 'batch_size': 51}. Best is trial 6 with value: 0.8670063694267516.\n",
            "[I 2024-10-23 00:48:09,028] Trial 13 finished with value: 0.8598726114649682 and parameters: {'hidden_size': 192, 'learning_rate': 0.00011727594508952132, 'optimizer': 'Adam', 'batch_size': 16}. Best is trial 6 with value: 0.8670063694267516.\n",
            "[I 2024-10-23 00:48:15,257] Trial 14 finished with value: 0.8654777070063694 and parameters: {'hidden_size': 188, 'learning_rate': 1.0531075999639133e-05, 'optimizer': 'Adam', 'batch_size': 47}. Best is trial 6 with value: 0.8670063694267516.\n",
            "[I 2024-10-23 00:48:22,351] Trial 15 finished with value: 0.8588535031847134 and parameters: {'hidden_size': 252, 'learning_rate': 0.0002664432355347009, 'optimizer': 'RMSprop', 'batch_size': 88}. Best is trial 6 with value: 0.8670063694267516.\n",
            "[I 2024-10-23 00:48:26,977] Trial 16 finished with value: 0.8687898089171975 and parameters: {'hidden_size': 36, 'learning_rate': 4.2625816673150844e-05, 'optimizer': 'RMSprop', 'batch_size': 50}. Best is trial 16 with value: 0.8687898089171975.\n",
            "[I 2024-10-23 00:48:30,711] Trial 17 finished with value: 0.8690445859872612 and parameters: {'hidden_size': 45, 'learning_rate': 0.00016992853409057755, 'optimizer': 'RMSprop', 'batch_size': 80}. Best is trial 17 with value: 0.8690445859872612.\n",
            "[I 2024-10-23 00:48:34,326] Trial 18 finished with value: 0.8695541401273885 and parameters: {'hidden_size': 33, 'learning_rate': 0.00022411756445949696, 'optimizer': 'RMSprop', 'batch_size': 77}. Best is trial 18 with value: 0.8695541401273885.\n",
            "[I 2024-10-23 00:48:36,367] Trial 19 finished with value: 0.8715923566878981 and parameters: {'hidden_size': 32, 'learning_rate': 0.00020410534922753887, 'optimizer': 'RMSprop', 'batch_size': 80}. Best is trial 19 with value: 0.8715923566878981.\n"
          ]
        },
        {
          "output_type": "stream",
          "name": "stdout",
          "text": [
            "Melhores hiperparâmetros:  {'hidden_size': 32, 'learning_rate': 0.00020410534922753887, 'optimizer': 'RMSprop', 'batch_size': 80}\n",
            "Melhor acurácia:  0.8715923566878981\n"
          ]
        }
      ]
    },
    {
      "cell_type": "code",
      "source": [
        "# Definir a estrutura da rede neural totalmente conectada\n",
        "import torch.nn as nn\n",
        "\n",
        "# Definir a estrutura da rede neural totalmente conectada\n",
        "class FullyConnectedNN(nn.Module):\n",
        "    def __init__(self, input_size, hidden_size, num_classes):\n",
        "        super(FullyConnectedNN, self).__init__()\n",
        "        self.fc1 = nn.Linear(input_size, hidden_size)\n",
        "        self.relu = nn.ReLU()\n",
        "        self.fc2 = nn.Linear(hidden_size, num_classes)\n",
        "\n",
        "    def forward(self, x):\n",
        "        x = self.fc1(x)\n",
        "        x = self.relu(x)\n",
        "        x = self.fc2(x)\n",
        "        return x\n",
        "\n",
        "# Definir parâmetros e inicializar a rede\n",
        "input_size = X_train.shape[1]  # Número de características\n",
        "hidden_size = 32  # Hiperparâmetro otimizado\n",
        "num_classes = len(label_encoder.classes_)\n",
        "learning_rate = 0.00020410534922753887  # Hiperparâmetro otimizado\n",
        "num_epochs = 40  # Número de épocas para treinamento\n",
        "\n",
        "model = FullyConnectedNN(input_size, hidden_size, num_classes)\n",
        "criterion = nn.CrossEntropyLoss()\n",
        "optimizer = optim.RMSprop(model.parameters(), lr=learning_rate)\n",
        "\n",
        "\n",
        "# Criar o DataLoader para o conjunto de treino\n",
        "train_loader = DataLoader(train_dataset, batch_size=batch_size, shuffle=True)\n",
        "\n"
      ],
      "metadata": {
        "id": "Kvnkp0tGgq5k"
      },
      "execution_count": 16,
      "outputs": []
    },
    {
      "cell_type": "markdown",
      "source": [
        "## Treinamento do modelo de Rede Neural"
      ],
      "metadata": {
        "id": "iXKUW_AugxZ8"
      }
    },
    {
      "cell_type": "code",
      "source": [
        "# Listas para armazenar as perdas\n",
        "train_losses = []\n",
        "val_losses = []\n",
        "\n",
        "# Treinamento do modelo\n",
        "for epoch in range(num_epochs):\n",
        "    model.train()  # Colocar o modelo em modo de treino\n",
        "    running_loss = 0.0\n",
        "\n",
        "    # Treinamento\n",
        "    for i in range(0, len(X_train), 80):  # Usar o batch_size otimizado\n",
        "        inputs = torch.tensor(X_train[i:i+80], dtype=torch.float32)\n",
        "        labels = torch.tensor(y_train[i:i+80], dtype=torch.long)\n",
        "\n",
        "        optimizer.zero_grad()  # Zerar os gradientes\n",
        "        outputs = model(inputs)  # Passar os dados pela rede\n",
        "        loss = criterion(outputs, labels)  # Calcular a perda\n",
        "        loss.backward()  # Retropropagar a perda\n",
        "        optimizer.step()  # Atualizar os pesos\n",
        "\n",
        "        running_loss += loss.item()  # Acumular a perda\n",
        "\n",
        "    # Calcular a perda média de treinamento e armazená-la\n",
        "    avg_train_loss = running_loss / (len(X_train) // 80)\n",
        "    train_losses.append(avg_train_loss)\n",
        "\n",
        "    # Validação\n",
        "    model.eval()  # Colocar o modelo em modo de avaliação\n",
        "    running_val_loss = 0.0\n",
        "\n",
        "    with torch.no_grad():  # Desativar o cálculo de gradientes\n",
        "        for i in range(0, len(X_val), 80):  # Usar o batch_size otimizado\n",
        "            inputs = torch.tensor(X_val[i:i+80], dtype=torch.float32)\n",
        "            labels = torch.tensor(y_val[i:i+80], dtype=torch.long)\n",
        "\n",
        "            outputs = model(inputs)  # Passar os dados pela rede\n",
        "            loss = criterion(outputs, labels)  # Calcular a perda\n",
        "            running_val_loss += loss.item()  # Acumular a perda\n",
        "\n",
        "    # Calcular a perda média de validação e armazená-la\n",
        "    avg_val_loss = running_val_loss / (len(X_val) // 80)\n",
        "    val_losses.append(avg_val_loss)\n",
        "\n",
        "    # Imprimir perdas\n",
        "    print(f'Epoch [{epoch+1}/{num_epochs}], Train Loss: {avg_train_loss:.4f}, Validation Loss: {avg_val_loss:.4f}')\n",
        "\n"
      ],
      "metadata": {
        "colab": {
          "base_uri": "https://localhost:8080/"
        },
        "id": "7BnGo8Mwg3HR",
        "outputId": "cb4d221b-4a5e-4a05-ae6d-c31d5fec6f98"
      },
      "execution_count": 17,
      "outputs": [
        {
          "output_type": "stream",
          "name": "stdout",
          "text": [
            "Epoch [1/40], Train Loss: 0.3622, Validation Loss: 0.3611\n",
            "Epoch [2/40], Train Loss: 0.3203, Validation Loss: 0.3553\n",
            "Epoch [3/40], Train Loss: 0.3027, Validation Loss: 0.3534\n",
            "Epoch [4/40], Train Loss: 0.2880, Validation Loss: 0.3530\n",
            "Epoch [5/40], Train Loss: 0.2746, Validation Loss: 0.3535\n",
            "Epoch [6/40], Train Loss: 0.2619, Validation Loss: 0.3550\n",
            "Epoch [7/40], Train Loss: 0.2496, Validation Loss: 0.3575\n",
            "Epoch [8/40], Train Loss: 0.2378, Validation Loss: 0.3602\n",
            "Epoch [9/40], Train Loss: 0.2264, Validation Loss: 0.3639\n",
            "Epoch [10/40], Train Loss: 0.2153, Validation Loss: 0.3679\n",
            "Epoch [11/40], Train Loss: 0.2046, Validation Loss: 0.3726\n",
            "Epoch [12/40], Train Loss: 0.1941, Validation Loss: 0.3776\n",
            "Epoch [13/40], Train Loss: 0.1840, Validation Loss: 0.3825\n",
            "Epoch [14/40], Train Loss: 0.1740, Validation Loss: 0.3884\n",
            "Epoch [15/40], Train Loss: 0.1643, Validation Loss: 0.3951\n",
            "Epoch [16/40], Train Loss: 0.1547, Validation Loss: 0.4006\n",
            "Epoch [17/40], Train Loss: 0.1455, Validation Loss: 0.4080\n",
            "Epoch [18/40], Train Loss: 0.1365, Validation Loss: 0.4154\n",
            "Epoch [19/40], Train Loss: 0.1276, Validation Loss: 0.4230\n",
            "Epoch [20/40], Train Loss: 0.1192, Validation Loss: 0.4308\n",
            "Epoch [21/40], Train Loss: 0.1109, Validation Loss: 0.4395\n",
            "Epoch [22/40], Train Loss: 0.1032, Validation Loss: 0.4485\n",
            "Epoch [23/40], Train Loss: 0.0952, Validation Loss: 0.4569\n",
            "Epoch [24/40], Train Loss: 0.0879, Validation Loss: 0.4678\n",
            "Epoch [25/40], Train Loss: 0.0808, Validation Loss: 0.4764\n",
            "Epoch [26/40], Train Loss: 0.0738, Validation Loss: 0.4884\n",
            "Epoch [27/40], Train Loss: 0.0675, Validation Loss: 0.4988\n",
            "Epoch [28/40], Train Loss: 0.0612, Validation Loss: 0.5107\n",
            "Epoch [29/40], Train Loss: 0.0555, Validation Loss: 0.5224\n",
            "Epoch [30/40], Train Loss: 0.0501, Validation Loss: 0.5364\n",
            "Epoch [31/40], Train Loss: 0.0454, Validation Loss: 0.5502\n",
            "Epoch [32/40], Train Loss: 0.0402, Validation Loss: 0.5626\n",
            "Epoch [33/40], Train Loss: 0.0361, Validation Loss: 0.5757\n",
            "Epoch [34/40], Train Loss: 0.0324, Validation Loss: 0.5912\n",
            "Epoch [35/40], Train Loss: 0.0285, Validation Loss: 0.6061\n",
            "Epoch [36/40], Train Loss: 0.0250, Validation Loss: 0.6225\n",
            "Epoch [37/40], Train Loss: 0.0251, Validation Loss: 0.6448\n",
            "Epoch [38/40], Train Loss: 0.0203, Validation Loss: 0.6486\n",
            "Epoch [39/40], Train Loss: 0.0173, Validation Loss: 0.6627\n",
            "Epoch [40/40], Train Loss: 0.0170, Validation Loss: 0.6804\n"
          ]
        }
      ]
    },
    {
      "cell_type": "code",
      "source": [
        "plt.figure(figsize=(12, 5))\n",
        "plt.plot(range(1, num_epochs + 1), train_losses, marker='o', linestyle='-', color='b', label='Train Loss')\n",
        "#plt.plot(range(1, num_epochs + 1), val_losses, marker='o', linestyle='-', color='r', label='Validation Loss')\n",
        "plt.title('Curvas de Treinamento e Validação: Perda vs Épocas')\n",
        "plt.xlabel('Épocas')\n",
        "plt.ylabel('Perda')\n",
        "plt.xticks(range(1, num_epochs + 1))  # Marcar as épocas no eixo x\n",
        "plt.legend()\n",
        "plt.grid()\n",
        "plt.show()"
      ],
      "metadata": {
        "colab": {
          "base_uri": "https://localhost:8080/",
          "height": 492
        },
        "id": "XlXB3tz7rcTo",
        "outputId": "f58f97f1-f954-411c-f0e6-686489bb693c"
      },
      "execution_count": 18,
      "outputs": [
        {
          "output_type": "display_data",
          "data": {
            "text/plain": [
              "<Figure size 1200x500 with 1 Axes>"
            ],
            "image/png": "[encoded data removed]"
          },
          "metadata": {}
        }
      ]
    },
    {
      "cell_type": "markdown",
      "source": [
        "## Avaliação do modelo no conjunto de Teste"
      ],
      "metadata": {
        "id": "zsjhBTcMhHTJ"
      }
    },
    {
      "cell_type": "code",
      "source": [
        "# Vamos avaliar o modelo no conjunto de teste\n",
        "model.eval()\n",
        "correct = 0\n",
        "total = 0\n",
        "with torch.no_grad():\n",
        "    for inputs, labels in test_loader:\n",
        "        outputs = model(inputs)\n",
        "        _, predicted = torch.max(outputs, 1)\n",
        "        total += labels.size(0)\n",
        "        correct += (predicted == labels).sum().item()\n",
        "\n",
        "print(f'Accuracy on test set: {100 * correct / total:.2f}%')\n"
      ],
      "metadata": {
        "colab": {
          "base_uri": "https://localhost:8080/"
        },
        "id": "SpzI4tD7hKrF",
        "outputId": "308cb566-1619-42d2-aba2-437fa2135f63"
      },
      "execution_count": 19,
      "outputs": [
        {
          "output_type": "stream",
          "name": "stdout",
          "text": [
            "Accuracy on test set: 85.50%\n"
          ]
        }
      ]
    },
    {
      "cell_type": "markdown",
      "source": [
        "## Matrizes de confusão e avaliação de desempenho"
      ],
      "metadata": {
        "id": "ORnefU8WhTA9"
      }
    },
    {
      "cell_type": "code",
      "source": [
        "# Obter previsões no conjunto de teste\n",
        "all_labels = []\n",
        "all_predictions = []\n",
        "\n",
        "model.eval()\n",
        "with torch.no_grad():\n",
        "    for inputs, labels in test_loader:\n",
        "        outputs = model(inputs)\n",
        "        _, predicted = torch.max(outputs, 1)\n",
        "        all_labels.extend(labels.numpy())\n",
        "        all_predictions.extend(predicted.numpy())\n",
        "\n",
        "# Gerar e exibir a matriz de confusão\n",
        "conf_matrix = confusion_matrix(all_labels, all_predictions)\n",
        "ConfusionMatrixDisplay.from_predictions(all_labels, all_predictions, display_labels=label_encoder.classes_, cmap=plt.cm.Blues)\n",
        "\n",
        "# Configurar o título e exibir a matriz\n",
        "plt.xticks(rotation=90)\n",
        "plt.title(\"Confusion Matrix - Training Data\")\n",
        "plt.show()\n"
      ],
      "metadata": {
        "colab": {
          "base_uri": "https://localhost:8080/",
          "height": 526
        },
        "id": "MjUoSn3rhXmd",
        "outputId": "70e1829c-65ea-4e79-e247-43ca209e83f2"
      },
      "execution_count": 21,
      "outputs": [
        {
          "output_type": "display_data",
          "data": {
            "text/plain": [
              "<Figure size 640x480 with 2 Axes>"
            ],
            "image/png": "[encoded data removed]"
          },
          "metadata": {}
        }
      ]
    },
    {
      "cell_type": "markdown",
      "source": [
        "## Avaliação do desempenho do modelo usando um novo conjunto de dados"
      ],
      "metadata": {
        "id": "qPWPI5qFhigx"
      }
    },
    {
      "cell_type": "code",
      "source": [
        "# Carregar o novo conjunto de dados\n",
        "new_data_path = '/content/teste_painters.csv'  # Caminho para o novo arquivo\n",
        "new_data = pd.read_csv(file_path, skiprows=[0, 1])\n",
        "\n",
        "# Pré-processamento: Separar características e rótulos\n",
        "X_new = new_data.iloc[:, 1:].values.astype(float)\n",
        "y_new = new_data.iloc[:, 0].values\n",
        "\n",
        "# Usar o mesmo LabelEncoder e StandardScaler treinados anteriormente\n",
        "y_new_encoded = label_encoder.transform(y_new)  # Usando o encoder do conjunto de treino\n",
        "X_new_scaled = scaler.transform(X_new)  # Normalizando com o scaler do conjunto de treino\n",
        "\n",
        "# Criar Dataset para o PyTorch\n",
        "class NewDataset(Dataset):\n",
        "    def __init__(self, features, labels):\n",
        "        self.features = torch.tensor(features, dtype=torch.float32)\n",
        "        self.labels = torch.tensor(labels, dtype=torch.long)\n",
        "\n",
        "    def __len__(self):\n",
        "        return len(self.labels)\n",
        "\n",
        "    def __getitem__(self, idx):\n",
        "        return self.features[idx], self.labels[idx]\n",
        "\n",
        "new_dataset = NewDataset(X_new_scaled, y_new_encoded)\n",
        "new_loader = DataLoader(new_dataset, batch_size=80, shuffle=False)\n"
      ],
      "metadata": {
        "id": "ZlOEuJGAhuqd"
      },
      "execution_count": 26,
      "outputs": []
    },
    {
      "cell_type": "markdown",
      "source": [
        "## Previsões e Avaliação no novo conjunto de dados"
      ],
      "metadata": {
        "id": "HNnVnUmPh9KN"
      }
    },
    {
      "cell_type": "code",
      "source": [
        "# Fazer previsões com o modelo treinado\n",
        "model.eval()\n",
        "all_new_labels = []\n",
        "all_new_predictions = []\n",
        "\n",
        "with torch.no_grad():\n",
        "    for inputs, labels in new_loader:\n",
        "        outputs = model(inputs)\n",
        "        _, predicted = torch.max(outputs, 1)\n",
        "        all_new_labels.extend(labels.numpy())\n",
        "        all_new_predictions.extend(predicted.numpy())\n",
        "\n",
        "# Calcular e exibir métricas de avaliação\n",
        "accuracy = accuracy_score(all_new_labels, all_new_predictions)\n",
        "recall = recall_score(all_new_labels, all_new_predictions, average='weighted')\n",
        "f1 = f1_score(all_new_labels, all_new_predictions, average='weighted')\n",
        "\n",
        "print(f'Accuracy: {accuracy:.2f}')\n",
        "print(f'Recall: {recall:.2f}')\n",
        "print(f'F1 Score: {f1:.2f}')\n"
      ],
      "metadata": {
        "colab": {
          "base_uri": "https://localhost:8080/"
        },
        "id": "F87YMzspiFxe",
        "outputId": "1d6490d8-6bb6-45e8-a690-c4b091d5fe8d"
      },
      "execution_count": 24,
      "outputs": [
        {
          "output_type": "stream",
          "name": "stdout",
          "text": [
            "Accuracy: 0.94\n",
            "Recall: 0.94\n",
            "F1 Score: 0.94\n"
          ]
        }
      ]
    },
    {
      "cell_type": "markdown",
      "source": [
        "## Matriz de Confusão - Novo conjunto de dados"
      ],
      "metadata": {
        "id": "wlgzZhl0iI5d"
      }
    },
    {
      "cell_type": "code",
      "source": [
        "# Matriz de confusão para o novo conjunto de dados\n",
        "conf_matrix = confusion_matrix(all_new_labels, all_new_predictions)\n",
        "ConfusionMatrixDisplay.from_predictions(all_new_labels, all_new_predictions, display_labels=label_encoder.classes_)\n",
        "plt.xticks(rotation=90)\n",
        "plt.title(\"Confusion Matrix - New Dataset\")\n",
        "plt.show()\n"
      ],
      "metadata": {
        "colab": {
          "base_uri": "https://localhost:8080/",
          "height": 526
        },
        "id": "PaRmRyoWiM60",
        "outputId": "785755e9-34ff-4d1d-d992-ffc1759ea3c1"
      },
      "execution_count": 25,
      "outputs": [
        {
          "output_type": "display_data",
          "data": {
            "text/plain": [
              "<Figure size 640x480 with 2 Axes>"
            ],
            "image/png": "[encoded data removed]"
          },
          "metadata": {}
        }
      ]
    },
    {
      "cell_type": "markdown",
      "source": [
        "## Análise e conclusão"
      ],
      "metadata": {
        "id": "IBU75mU5_RjC"
      }
    },
    {
      "cell_type": "markdown",
      "source": [
        "Os resultados no conjunto de teste mostram que o modelo obteve uma acurácia de 94%, com valores de recall e F1 Score também em 94%. Isso sugere que o modelo é bem preciso e conseguiu identificar bem as pistas. Esses números indicam que o modelo se saiu bem mesmo com dados novos, indicando que ele é bom em generalizar e não apenas se lembrar dos dados que já viu antes."
      ],
      "metadata": {
        "id": "_ajyvgu6-1ZW"
      }
    }
  ]
}