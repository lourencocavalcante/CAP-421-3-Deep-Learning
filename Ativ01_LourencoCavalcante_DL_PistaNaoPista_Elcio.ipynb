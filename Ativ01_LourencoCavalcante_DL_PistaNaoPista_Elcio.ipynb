{
  "nbformat": 4,
  "nbformat_minor": 0,
  "metadata": {
    "colab": {
      "provenance": [],
      "authorship_tag": "ABX9TyOhqiRK1fbcdCLUA+WBMhJn",
      "include_colab_link": true
    },
    "kernelspec": {
      "name": "python3",
      "display_name": "Python 3"
    },
    "language_info": {
      "name": "python"
    }
  },
  "cells": [
    {
      "cell_type": "markdown",
      "metadata": {
        "id": "view-in-github",
        "colab_type": "text"
      },
      "source": [
        "<a href=\"https://colab.research.google.com/github/lourencocavalcante/CAP-421-3-Deep-Learning/blob/main/Ativ01_LourencoCavalcante_DL_PistaNaoPista_Elcio.ipynb\" target=\"_parent\"><img src=\"https://colab.research.google.com/assets/colab-badge.svg\" alt=\"Open In Colab\"/></a>"
      ]
    },
    {
      "cell_type": "markdown",
      "source": [
        "[<img src=\"https://github.com/lourencocavalcante/LogosINPE/blob/main/logoinpe.png?raw=true\" width = 500 align=\"left\">](https://www.gov.br/inpe/pt-br)\n",
        "\n",
        "[<img src=\"https://github.com/lourencocavalcante/LogosINPE/blob/main/LogoCAP.png?raw=true\" width = 300 align=\"right\">](http://www.inpe.br/posgraduacao/cap/)"
      ],
      "metadata": {
        "id": "Yu1BI5tLedxy"
      }
    },
    {
      "cell_type": "markdown",
      "source": [
        "# **CAP-730 Aprendizado Profundo (*Deep Leraning*)**\n",
        "## **Otimizando redes neurais profundas na detecção de pistas de pouso no bioma amazônico usando dados tabulares**\n",
        "\n",
        "**Docentes:** *Dr. Valdivino Alexandre de Santiago Junior, Dr. Elcio Hideiti Shiguemori e Dr. Thales Sehn Körti*\n",
        "\n",
        "**Discente:** *Lourenço José Cavalcante Neto*\n",
        "\n",
        "---\n",
        "\n"
      ],
      "metadata": {
        "id": "6Y14H4Vze0wz"
      }
    },
    {
      "cell_type": "markdown",
      "source": [
        "## Objetivo:\n",
        "\n",
        "Nesta atividade, vamos explorar o problema de detecção de pistas de pouso no bioma amazônico utilizando redes neurais profundas totalmente conectadas. Para isso, empregaremos atributos previamente extraídos por redes neurais convolucionais (CNN) já treinadas. Em aulas futuras, será abordado treinamento e uso das CNNs em maior detalhe, especialmente com uso de imagens. O principal objetivo desta atividade foi familiarizar-se com os conceitos básicos de redes neurais profundas, enquanto realizamos uma tarefa prática de classificação de dados tabulares, aplicando técnicas de aprendizado profundo."
      ],
      "metadata": {
        "id": "fhiFQr5UfAiC"
      }
    },
    {
      "cell_type": "markdown",
      "source": [
        "## Importação/Instalação de Dependências"
      ],
      "metadata": {
        "id": "PeS9ARLMeN2k"
      }
    },
    {
      "cell_type": "code",
      "source": [
        "import pandas as pd\n",
        "import torch\n",
        "import torch.nn as nn\n",
        "import torch.optim as optim\n",
        "from torch.utils.data import Dataset, DataLoader\n",
        "from sklearn.model_selection import train_test_split\n",
        "from sklearn.preprocessing import LabelEncoder, StandardScaler\n",
        "from sklearn.metrics import ConfusionMatrixDisplay, confusion_matrix, accuracy_score, recall_score, f1_score\n",
        "import matplotlib.pyplot as plt\n",
        "\n",
        "# Baixar arquivo de dados\n",
        "\n",
        "!gdown --id 1gf-Z0CEfGaTNzr9SUnxB-2iSpmHC-V7y\n",
        "!gdown --id 1TpuHNRnL0CuyRheXq9I-ou9pfke15mmG\n",
        "!gdown --id 1GCVzp4soAf24ABv-qN9uTa7ROsvrhG9X\n"
      ],
      "metadata": {
        "colab": {
          "base_uri": "https://localhost:8080/"
        },
        "id": "DutjR6ONf-DU",
        "outputId": "32edd1f6-3254-45b2-8376-3545e24f0778"
      },
      "execution_count": 19,
      "outputs": [
        {
          "output_type": "stream",
          "name": "stdout",
          "text": [
            "/usr/local/lib/python3.10/dist-packages/gdown/__main__.py:140: FutureWarning: Option `--id` was deprecated in version 4.3.1 and will be removed in 5.0. You don't need to pass it anymore to use a file ID.\n",
            "  warnings.warn(\n",
            "Downloading...\n",
            "From: https://drive.google.com/uc?id=1gf-Z0CEfGaTNzr9SUnxB-2iSpmHC-V7y\n",
            "To: /content/teste_painters.csv\n",
            "100% 47.5M/47.5M [00:00<00:00, 78.4MB/s]\n",
            "/usr/local/lib/python3.10/dist-packages/gdown/__main__.py:140: FutureWarning: Option `--id` was deprecated in version 4.3.1 and will be removed in 5.0. You don't need to pass it anymore to use a file ID.\n",
            "  warnings.warn(\n",
            "Downloading...\n",
            "From (original): https://drive.google.com/uc?id=1TpuHNRnL0CuyRheXq9I-ou9pfke15mmG\n",
            "From (redirected): https://drive.google.com/uc?id=1TpuHNRnL0CuyRheXq9I-ou9pfke15mmG&confirm=t&uuid=45f3bf13-cef4-4c71-aa57-5788202d785d\n",
            "To: /content/todas_painters.csv\n",
            "100% 848M/848M [00:17<00:00, 47.3MB/s]\n",
            "/usr/local/lib/python3.10/dist-packages/gdown/__main__.py:140: FutureWarning: Option `--id` was deprecated in version 4.3.1 and will be removed in 5.0. You don't need to pass it anymore to use a file ID.\n",
            "  warnings.warn(\n",
            "Downloading...\n",
            "From (original): https://drive.google.com/uc?id=1GCVzp4soAf24ABv-qN9uTa7ROsvrhG9X\n",
            "From (redirected): https://drive.google.com/uc?id=1GCVzp4soAf24ABv-qN9uTa7ROsvrhG9X&confirm=t&uuid=83729bba-73eb-4cff-89d6-6c34edeeffe3\n",
            "To: /content/treinamento_painters.csv\n",
            "100% 378M/378M [00:04<00:00, 87.9MB/s]\n"
          ]
        }
      ]
    },
    {
      "cell_type": "markdown",
      "source": [
        "## Carregamento e pré-processamento dos dados"
      ],
      "metadata": {
        "id": "k9QVM695gFy8"
      }
    },
    {
      "cell_type": "code",
      "source": [
        "# Carregar os dados e remover as duas primeiras linhas de metadados\n",
        "file_path = '/content/treinamento_painters.csv'\n",
        "data = pd.read_csv(file_path, skiprows=[0, 1])\n",
        "\n",
        "# Separar características (X) e rótulos (y)\n",
        "X = data.iloc[:, 1:].values.astype(float)  # Dados de entrada\n",
        "y = data.iloc[:, 0].values  # Rótulos (categorias)\n",
        "\n",
        "# Codificar os rótulos para inteiros\n",
        "label_encoder = LabelEncoder()\n",
        "y_encoded = label_encoder.fit_transform(y)\n",
        "\n",
        "# Normalizar as características\n",
        "scaler = StandardScaler()\n",
        "X_scaled = scaler.fit_transform(X)\n",
        "\n",
        "# Dividir em conjuntos de treino e teste\n",
        "X_train, X_test, y_train, y_test = train_test_split(X_scaled, y_encoded, test_size=0.2, random_state=42)\n"
      ],
      "metadata": {
        "id": "jQY_7B0vgKe0"
      },
      "execution_count": 2,
      "outputs": []
    },
    {
      "cell_type": "markdown",
      "source": [
        "## Criação da classe dataset personalizada"
      ],
      "metadata": {
        "id": "57ypqh4mgWtU"
      }
    },
    {
      "cell_type": "code",
      "source": [
        "# Criar uma classe Dataset para PyTorch\n",
        "class CustomDataset(Dataset):\n",
        "    def __init__(self, features, labels):\n",
        "        self.features = torch.tensor(features, dtype=torch.float32)\n",
        "        self.labels = torch.tensor(labels, dtype=torch.long)\n",
        "\n",
        "    def __len__(self):\n",
        "        return len(self.labels)\n",
        "\n",
        "    def __getitem__(self, idx):\n",
        "        return self.features[idx], self.labels[idx]\n",
        "\n",
        "# Criar datasets de treino e teste\n",
        "train_dataset = CustomDataset(X_train, y_train)\n",
        "test_dataset = CustomDataset(X_test, y_test)\n",
        "\n",
        "# Criar DataLoaders\n",
        "batch_size = 32\n",
        "train_loader = DataLoader(train_dataset, batch_size=batch_size, shuffle=True)\n",
        "test_loader = DataLoader(test_dataset, batch_size=batch_size, shuffle=False)\n"
      ],
      "metadata": {
        "id": "htnFuCf3ggNy"
      },
      "execution_count": 3,
      "outputs": []
    },
    {
      "cell_type": "markdown",
      "source": [
        "## Antes, vamos realizar uma otimização de Hiperparâmetros com Optuna"
      ],
      "metadata": {
        "id": "KINCI7ScjtbZ"
      }
    },
    {
      "cell_type": "code",
      "source": [
        "!pip install Optuna"
      ],
      "metadata": {
        "colab": {
          "base_uri": "https://localhost:8080/"
        },
        "id": "T5JuIDgRj89r",
        "outputId": "1e0604d7-09a6-429f-a2e9-32fa93c38354"
      },
      "execution_count": 12,
      "outputs": [
        {
          "output_type": "stream",
          "name": "stdout",
          "text": [
            "Collecting Optuna\n",
            "  Downloading optuna-4.0.0-py3-none-any.whl.metadata (16 kB)\n",
            "Collecting alembic>=1.5.0 (from Optuna)\n",
            "  Downloading alembic-1.13.3-py3-none-any.whl.metadata (7.4 kB)\n",
            "Collecting colorlog (from Optuna)\n",
            "  Downloading colorlog-6.8.2-py3-none-any.whl.metadata (10 kB)\n",
            "Requirement already satisfied: numpy in /usr/local/lib/python3.10/dist-packages (from Optuna) (1.26.4)\n",
            "Requirement already satisfied: packaging>=20.0 in /usr/local/lib/python3.10/dist-packages (from Optuna) (24.1)\n",
            "Requirement already satisfied: sqlalchemy>=1.3.0 in /usr/local/lib/python3.10/dist-packages (from Optuna) (2.0.36)\n",
            "Requirement already satisfied: tqdm in /usr/local/lib/python3.10/dist-packages (from Optuna) (4.66.5)\n",
            "Requirement already satisfied: PyYAML in /usr/local/lib/python3.10/dist-packages (from Optuna) (6.0.2)\n",
            "Collecting Mako (from alembic>=1.5.0->Optuna)\n",
            "  Downloading Mako-1.3.6-py3-none-any.whl.metadata (2.9 kB)\n",
            "Requirement already satisfied: typing-extensions>=4 in /usr/local/lib/python3.10/dist-packages (from alembic>=1.5.0->Optuna) (4.12.2)\n",
            "Requirement already satisfied: greenlet!=0.4.17 in /usr/local/lib/python3.10/dist-packages (from sqlalchemy>=1.3.0->Optuna) (3.1.1)\n",
            "Requirement already satisfied: MarkupSafe>=0.9.2 in /usr/local/lib/python3.10/dist-packages (from Mako->alembic>=1.5.0->Optuna) (3.0.2)\n",
            "Downloading optuna-4.0.0-py3-none-any.whl (362 kB)\n",
            "\u001b[2K   \u001b[90m━━━━━━━━━━━━━━━━━━━━━━━━━━━━━━━━━━━━━━━━\u001b[0m \u001b[32m362.8/362.8 kB\u001b[0m \u001b[31m7.8 MB/s\u001b[0m eta \u001b[36m0:00:00\u001b[0m\n",
            "\u001b[?25hDownloading alembic-1.13.3-py3-none-any.whl (233 kB)\n",
            "\u001b[2K   \u001b[90m━━━━━━━━━━━━━━━━━━━━━━━━━━━━━━━━━━━━━━━━\u001b[0m \u001b[32m233.2/233.2 kB\u001b[0m \u001b[31m13.3 MB/s\u001b[0m eta \u001b[36m0:00:00\u001b[0m\n",
            "\u001b[?25hDownloading colorlog-6.8.2-py3-none-any.whl (11 kB)\n",
            "Downloading Mako-1.3.6-py3-none-any.whl (78 kB)\n",
            "\u001b[2K   \u001b[90m━━━━━━━━━━━━━━━━━━━━━━━━━━━━━━━━━━━━━━━━\u001b[0m \u001b[32m78.6/78.6 kB\u001b[0m \u001b[31m5.8 MB/s\u001b[0m eta \u001b[36m0:00:00\u001b[0m\n",
            "\u001b[?25hInstalling collected packages: Mako, colorlog, alembic, Optuna\n",
            "Successfully installed Mako-1.3.6 Optuna-4.0.0 alembic-1.13.3 colorlog-6.8.2\n"
          ]
        }
      ]
    },
    {
      "cell_type": "code",
      "source": [
        "import optuna\n",
        "import torch.optim as optim\n",
        "from torch.utils.data import DataLoader\n",
        "\n",
        "# Definir a função de objetivo para o Optuna\n",
        "def objective(trial):\n",
        "    # Sugerir hiperparâmetros\n",
        "    hidden_size = trial.suggest_int('hidden_size', 64, 256)  # Tamanho da camada oculta\n",
        "    learning_rate = trial.suggest_loguniform('learning_rate', 1e-5, 1e-2)  # Taxa de aprendizado\n",
        "    optimizer_name = trial.suggest_categorical('optimizer', ['Adam', 'RMSprop', 'SGD'])  # Escolher otimizador\n",
        "    batch_size = trial.suggest_int('batch_size', 16, 128)  # Tamanho do lote\n",
        "\n",
        "    # Definir a rede neural com os parâmetros sugeridos\n",
        "    model = FullyConnectedNN(input_size, hidden_size, num_classes)\n",
        "\n",
        "    # Definir a função de perda\n",
        "    criterion = nn.CrossEntropyLoss()\n",
        "\n",
        "    # Selecionar otimizador sugerido\n",
        "    optimizer = getattr(optim, optimizer_name)(model.parameters(), lr=learning_rate)\n",
        "\n",
        "    # Preparar DataLoader com o tamanho de batch sugerido\n",
        "    train_loader = DataLoader(train_dataset, batch_size=batch_size, shuffle=True)\n",
        "\n",
        "    # Treinar o modelo por algumas épocas\n",
        "    num_epochs = 5  # Ajustar o número de épocas para otimização rápida\n",
        "    model.train()\n",
        "    for epoch in range(num_epochs):\n",
        "        running_loss = 0.0\n",
        "        for inputs, labels in train_loader:\n",
        "            optimizer.zero_grad()\n",
        "            outputs = model(inputs)\n",
        "            loss = criterion(outputs, labels)\n",
        "            loss.backward()\n",
        "            optimizer.step()\n",
        "            running_loss += loss.item()\n",
        "\n",
        "    # Avaliar a acurácia no conjunto de teste\n",
        "    model.eval()\n",
        "    correct = 0\n",
        "    total = 0\n",
        "    with torch.no_grad():\n",
        "        for inputs, labels in test_loader:\n",
        "            outputs = model(inputs)\n",
        "            _, predicted = torch.max(outputs, 1)\n",
        "            total += labels.size(0)\n",
        "            correct += (predicted == labels).sum().item()\n",
        "\n",
        "    # Retornar a métrica a ser minimizada/maximizada (neste caso, o erro)\n",
        "    accuracy = correct / total\n",
        "    return accuracy  # Otimizar a acurácia\n",
        "\n",
        "# Criar o estudo Optuna\n",
        "study = optuna.create_study(direction='maximize')  # Maximizar a acurácia\n",
        "study.optimize(objective, n_trials=10)  # Realizar 50 tentativas de ajuste\n",
        "\n",
        "# Melhor hiperparâmetro encontrado\n",
        "print(\"Melhores hiperparâmetros: \", study.best_params)\n",
        "print(\"Melhor acurácia: \", study.best_value)\n"
      ],
      "metadata": {
        "colab": {
          "base_uri": "https://localhost:8080/"
        },
        "id": "eRLyDJcDj3wC",
        "outputId": "1312306f-8c85-4383-bc15-c81a8acbddef"
      },
      "execution_count": 13,
      "outputs": [
        {
          "output_type": "stream",
          "name": "stderr",
          "text": [
            "[I 2024-10-22 23:29:22,474] A new study created in memory with name: no-name-2d803ab1-2425-42ff-832d-aa91d8d41927\n",
            "<ipython-input-13-5def9add02e3>:9: FutureWarning: suggest_loguniform has been deprecated in v3.0.0. This feature will be removed in v6.0.0. See https://github.com/optuna/optuna/releases/tag/v3.0.0. Use suggest_float(..., log=True) instead.\n",
            "  learning_rate = trial.suggest_loguniform('learning_rate', 1e-5, 1e-2)  # Taxa de aprendizado\n",
            "[I 2024-10-22 23:29:37,275] Trial 0 finished with value: 0.8476433121019108 and parameters: {'hidden_size': 130, 'learning_rate': 0.0006382703215153716, 'optimizer': 'SGD', 'batch_size': 103}. Best is trial 0 with value: 0.8476433121019108.\n",
            "[I 2024-10-22 23:29:54,935] Trial 1 finished with value: 0.8667515923566879 and parameters: {'hidden_size': 235, 'learning_rate': 1.3485204304000105e-05, 'optimizer': 'Adam', 'batch_size': 125}. Best is trial 1 with value: 0.8667515923566879.\n",
            "[I 2024-10-22 23:29:59,986] Trial 2 finished with value: 0.8695541401273885 and parameters: {'hidden_size': 131, 'learning_rate': 0.004010142708279261, 'optimizer': 'SGD', 'batch_size': 36}. Best is trial 2 with value: 0.8695541401273885.\n",
            "[I 2024-10-22 23:30:11,177] Trial 3 finished with value: 0.855031847133758 and parameters: {'hidden_size': 256, 'learning_rate': 0.0014076244822157124, 'optimizer': 'Adam', 'batch_size': 80}. Best is trial 2 with value: 0.8695541401273885.\n",
            "[I 2024-10-22 23:30:18,072] Trial 4 finished with value: 0.8736305732484076 and parameters: {'hidden_size': 240, 'learning_rate': 0.00013975604732772477, 'optimizer': 'Adam', 'batch_size': 92}. Best is trial 4 with value: 0.8736305732484076.\n",
            "[I 2024-10-22 23:30:32,299] Trial 5 finished with value: 0.86828025477707 and parameters: {'hidden_size': 206, 'learning_rate': 1.0109793943689378e-05, 'optimizer': 'Adam', 'batch_size': 31}. Best is trial 4 with value: 0.8736305732484076.\n",
            "[I 2024-10-22 23:30:39,039] Trial 6 finished with value: 0.870063694267516 and parameters: {'hidden_size': 165, 'learning_rate': 0.0017820215170810266, 'optimizer': 'RMSprop', 'batch_size': 56}. Best is trial 4 with value: 0.8736305732484076.\n",
            "[I 2024-10-22 23:30:45,012] Trial 7 finished with value: 0.2817834394904459 and parameters: {'hidden_size': 65, 'learning_rate': 1.756794012048329e-05, 'optimizer': 'SGD', 'batch_size': 74}. Best is trial 4 with value: 0.8736305732484076.\n",
            "[I 2024-10-22 23:30:54,353] Trial 8 finished with value: 0.8723566878980892 and parameters: {'hidden_size': 187, 'learning_rate': 7.451659198997813e-05, 'optimizer': 'RMSprop', 'batch_size': 87}. Best is trial 4 with value: 0.8736305732484076.\n",
            "[I 2024-10-22 23:31:03,311] Trial 9 finished with value: 0.8657324840764331 and parameters: {'hidden_size': 229, 'learning_rate': 0.002400725458739865, 'optimizer': 'RMSprop', 'batch_size': 54}. Best is trial 4 with value: 0.8736305732484076.\n"
          ]
        },
        {
          "output_type": "stream",
          "name": "stdout",
          "text": [
            "Melhores hiperparâmetros:  {'hidden_size': 240, 'learning_rate': 0.00013975604732772477, 'optimizer': 'Adam', 'batch_size': 92}\n",
            "Melhor acurácia:  0.8736305732484076\n"
          ]
        }
      ]
    },
    {
      "cell_type": "markdown",
      "source": [
        "## Definições da Rede Neural"
      ],
      "metadata": {
        "id": "heGWMHYEgmEF"
      }
    },
    {
      "cell_type": "code",
      "source": [
        "# Definir a estrutura da rede neural totalmente conectada\n",
        "import torch.nn as nn\n",
        "\n",
        "class FullyConnectedNN(nn.Module):\n",
        "    def __init__(self, input_size, hidden_size, num_classes):\n",
        "        super(FullyConnectedNN, self).__init__()\n",
        "        self.fc1 = nn.Linear(input_size, hidden_size)\n",
        "        self.relu = nn.ReLU()\n",
        "        self.fc2 = nn.Linear(hidden_size, num_classes)\n",
        "\n",
        "    def forward(self, x):\n",
        "        x = self.fc1(x)\n",
        "        x = self.relu(x)\n",
        "        x = self.fc2(x)\n",
        "        return x\n",
        "\n",
        "\n",
        "# Definir parâmetros e inicializar a rede com os melhores hiperparâmetros\n",
        "input_size = X_train.shape[1]  # Número de características de entrada\n",
        "hidden_size = 240  # Obtido do Optuna\n",
        "num_classes = len(label_encoder.classes_)  # Número de classes\n",
        "learning_rate = 0.00013975604732772477  # Obtido do Optuna\n",
        "num_epochs = 5  # Defina conforme necessário\n",
        "batch_size = 92  # Obtido do Optuna\n",
        "\n",
        "# Inicializar o modelo\n",
        "model = FullyConnectedNN(input_size, hidden_size, num_classes)\n",
        "criterion = nn.CrossEntropyLoss()\n",
        "\n",
        "# Inicializar o otimizador com a taxa de aprendizado especificada\n",
        "optimizer = optim.Adam(model.parameters(), lr=learning_rate)\n",
        "\n",
        "# Criar o DataLoader para o conjunto de treino\n",
        "train_loader = DataLoader(train_dataset, batch_size=batch_size, shuffle=True)\n",
        "\n"
      ],
      "metadata": {
        "id": "Kvnkp0tGgq5k"
      },
      "execution_count": 14,
      "outputs": []
    },
    {
      "cell_type": "markdown",
      "source": [
        "## Treinamento do modelo de Rede Neural"
      ],
      "metadata": {
        "id": "iXKUW_AugxZ8"
      }
    },
    {
      "cell_type": "code",
      "source": [
        "# Treinamento do modelo\n",
        "for epoch in range(num_epochs):\n",
        "    model.train()  # Colocar o modelo em modo de treino\n",
        "    running_loss = 0.0\n",
        "\n",
        "    for inputs, labels in train_loader:\n",
        "        optimizer.zero_grad()  # Zerar os gradientes\n",
        "        outputs = model(inputs)  # Passar os dados pela rede\n",
        "        loss = criterion(outputs, labels)  # Calcular a perda\n",
        "        loss.backward()  # Retropropagar a perda\n",
        "        optimizer.step()  # Atualizar os pesos\n",
        "\n",
        "        running_loss += loss.item()  # Acumular a perda\n",
        "\n",
        "    print(f'Epoch [{epoch+1}/{num_epochs}], Loss: {running_loss/len(train_loader):.4f}')\n"
      ],
      "metadata": {
        "colab": {
          "base_uri": "https://localhost:8080/"
        },
        "id": "7BnGo8Mwg3HR",
        "outputId": "0e813739-c08e-4704-b052-26332f012a54"
      },
      "execution_count": 15,
      "outputs": [
        {
          "output_type": "stream",
          "name": "stdout",
          "text": [
            "Epoch [1/5], Loss: 0.3620\n",
            "Epoch [2/5], Loss: 0.3174\n",
            "Epoch [3/5], Loss: 0.2940\n",
            "Epoch [4/5], Loss: 0.2730\n",
            "Epoch [5/5], Loss: 0.2520\n"
          ]
        }
      ]
    },
    {
      "cell_type": "markdown",
      "source": [
        "## Avaliação do modelo no conjunto de Teste"
      ],
      "metadata": {
        "id": "zsjhBTcMhHTJ"
      }
    },
    {
      "cell_type": "code",
      "source": [
        "# Vamos avaliar o modelo no conjunto de teste\n",
        "model.eval()\n",
        "correct = 0\n",
        "total = 0\n",
        "with torch.no_grad():\n",
        "    for inputs, labels in test_loader:\n",
        "        outputs = model(inputs)\n",
        "        _, predicted = torch.max(outputs, 1)\n",
        "        total += labels.size(0)\n",
        "        correct += (predicted == labels).sum().item()\n",
        "\n",
        "print(f'Accuracy on test set: {100 * correct / total:.2f}%')\n"
      ],
      "metadata": {
        "colab": {
          "base_uri": "https://localhost:8080/"
        },
        "id": "SpzI4tD7hKrF",
        "outputId": "69a64e88-7e4c-4eb0-d88b-83ec754014a2"
      },
      "execution_count": 16,
      "outputs": [
        {
          "output_type": "stream",
          "name": "stdout",
          "text": [
            "Accuracy on test set: 86.90%\n"
          ]
        }
      ]
    },
    {
      "cell_type": "markdown",
      "source": [
        "## Matrizes de confusão e avaliação de desempenho"
      ],
      "metadata": {
        "id": "ORnefU8WhTA9"
      }
    },
    {
      "cell_type": "code",
      "source": [
        "# Obter previsões no conjunto de teste\n",
        "all_labels = []\n",
        "all_predictions = []\n",
        "\n",
        "model.eval()\n",
        "with torch.no_grad():\n",
        "    for inputs, labels in test_loader:\n",
        "        outputs = model(inputs)\n",
        "        _, predicted = torch.max(outputs, 1)\n",
        "        all_labels.extend(labels.numpy())\n",
        "        all_predictions.extend(predicted.numpy())\n",
        "\n",
        "# Gerar e exibir a matriz de confusão\n",
        "conf_matrix = confusion_matrix(all_labels, all_predictions)\n",
        "ConfusionMatrixDisplay.from_predictions(all_labels, all_predictions, display_labels=label_encoder.classes_, cmap=plt.cm.Blues)\n",
        "\n",
        "# Configurar o título e exibir a matriz\n",
        "plt.xticks(rotation=90)\n",
        "plt.title(\"Confusion Matrix - Training Data\")\n",
        "plt.show()\n"
      ],
      "metadata": {
        "colab": {
          "base_uri": "https://localhost:8080/",
          "height": 526
        },
        "id": "MjUoSn3rhXmd",
        "outputId": "052ceb46-bf38-4429-fdf5-da658fc1f93f"
      },
      "execution_count": 17,
      "outputs": [
        {
          "output_type": "display_data",
          "data": {
            "text/plain": [
              "<Figure size 640x480 with 2 Axes>"
            ],
            "image/png": "[encoded data removed]"
          },
          "metadata": {}
        }
      ]
    },
    {
      "cell_type": "markdown",
      "source": [
        "## Avaliação do desempenho do modelo usando um novo conjunto de dados"
      ],
      "metadata": {
        "id": "qPWPI5qFhigx"
      }
    },
    {
      "cell_type": "code",
      "source": [
        "# Carregar o novo conjunto de dados\n",
        "new_data_path = '/content/teste_painters.csv'  # Caminho para o novo arquivo\n",
        "new_data = pd.read_csv(file_path, skiprows=[0, 1])\n",
        "\n",
        "# Pré-processamento: Separar características e rótulos\n",
        "X_new = new_data.iloc[:, 1:].values.astype(float)\n",
        "y_new = new_data.iloc[:, 0].values\n",
        "\n",
        "# Usar o mesmo LabelEncoder e StandardScaler treinados anteriormente\n",
        "y_new_encoded = label_encoder.transform(y_new)  # Usando o encoder do conjunto de treino\n",
        "X_new_scaled = scaler.transform(X_new)  # Normalizando com o scaler do conjunto de treino\n",
        "\n",
        "# Criar Dataset para o PyTorch\n",
        "class NewDataset(Dataset):\n",
        "    def __init__(self, features, labels):\n",
        "        self.features = torch.tensor(features, dtype=torch.float32)\n",
        "        self.labels = torch.tensor(labels, dtype=torch.long)\n",
        "\n",
        "    def __len__(self):\n",
        "        return len(self.labels)\n",
        "\n",
        "    def __getitem__(self, idx):\n",
        "        return self.features[idx], self.labels[idx]\n",
        "\n",
        "new_dataset = NewDataset(X_new_scaled, y_new_encoded)\n",
        "new_loader = DataLoader(new_dataset, batch_size=32, shuffle=False)\n"
      ],
      "metadata": {
        "id": "ZlOEuJGAhuqd"
      },
      "execution_count": 21,
      "outputs": []
    },
    {
      "cell_type": "markdown",
      "source": [
        "## Previsões e Avaliação no novo conjunto de dados"
      ],
      "metadata": {
        "id": "HNnVnUmPh9KN"
      }
    },
    {
      "cell_type": "code",
      "source": [
        "# Fazer previsões com o modelo treinado\n",
        "model.eval()\n",
        "all_new_labels = []\n",
        "all_new_predictions = []\n",
        "\n",
        "with torch.no_grad():\n",
        "    for inputs, labels in new_loader:\n",
        "        outputs = model(inputs)\n",
        "        _, predicted = torch.max(outputs, 1)\n",
        "        all_new_labels.extend(labels.numpy())\n",
        "        all_new_predictions.extend(predicted.numpy())\n",
        "\n",
        "# Calcular e exibir métricas de avaliação\n",
        "accuracy = accuracy_score(all_new_labels, all_new_predictions)\n",
        "recall = recall_score(all_new_labels, all_new_predictions, average='weighted')\n",
        "f1 = f1_score(all_new_labels, all_new_predictions, average='weighted')\n",
        "\n",
        "print(f'Accuracy: {accuracy:.2f}')\n",
        "print(f'Recall: {recall:.2f}')\n",
        "print(f'F1 Score: {f1:.2f}')\n"
      ],
      "metadata": {
        "colab": {
          "base_uri": "https://localhost:8080/"
        },
        "id": "F87YMzspiFxe",
        "outputId": "e487a722-a76f-4d9c-dbd0-9af799c472d3"
      },
      "execution_count": 22,
      "outputs": [
        {
          "output_type": "stream",
          "name": "stdout",
          "text": [
            "Accuracy: 0.91\n",
            "Recall: 0.91\n",
            "F1 Score: 0.90\n"
          ]
        }
      ]
    },
    {
      "cell_type": "markdown",
      "source": [
        "## Matriz de Confusão - Novo conjunto de dados"
      ],
      "metadata": {
        "id": "wlgzZhl0iI5d"
      }
    },
    {
      "cell_type": "code",
      "source": [
        "# Matriz de confusão para o novo conjunto de dados\n",
        "conf_matrix = confusion_matrix(all_new_labels, all_new_predictions)\n",
        "ConfusionMatrixDisplay.from_predictions(all_new_labels, all_new_predictions, display_labels=label_encoder.classes_)\n",
        "plt.xticks(rotation=90)\n",
        "plt.title(\"Confusion Matrix - New Dataset\")\n",
        "plt.show()\n"
      ],
      "metadata": {
        "colab": {
          "base_uri": "https://localhost:8080/",
          "height": 526
        },
        "id": "PaRmRyoWiM60",
        "outputId": "7f46b40d-f3ea-405d-9986-196ec60a31da"
      },
      "execution_count": 23,
      "outputs": [
        {
          "output_type": "display_data",
          "data": {
            "text/plain": [
              "<Figure size 640x480 with 2 Axes>"
            ],
            "image/png": "[encoded data removed]"
          },
          "metadata": {}
        }
      ]
    }
  ]
}